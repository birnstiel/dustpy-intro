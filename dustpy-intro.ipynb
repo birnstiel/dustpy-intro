{
 "cells": [
  {
   "cell_type": "markdown",
   "metadata": {},
   "source": [
    "# Dustpy Introduction"
   ]
  },
  {
   "cell_type": "markdown",
   "metadata": {},
   "source": [
    "you can convert and run this by\n",
    "\n",
    "    jupyter nbconvert --to python dustpy-intro.ipynb\n",
    "    python dustpy-intro.py"
   ]
  },
  {
   "cell_type": "code",
   "execution_count": null,
   "metadata": {},
   "outputs": [],
   "source": [
    "import numpy as np\n",
    "import matplotlib.pyplot as plt\n",
    "import shutil\n",
    "import os\n",
    "import sys\n",
    "\n",
    "def is_interactive():\n",
    "    import __main__ as main\n",
    "    return not hasattr(main, '__file__')\n",
    "\n",
    "\n",
    "if is_interactive():\n",
    "    from IPython import get_ipython\n",
    "    get_ipython().magic('matplotlib inline')\n",
    "    \n",
    "plt.style.use(['seaborn',{'figure.dpi':200}])"
   ]
  },
  {
   "cell_type": "markdown",
   "metadata": {},
   "source": [
    "After downloading, make sure you have the requirements or install via (in the place where `setup.py` resides)\n",
    "\n",
    "    pip install -r requirements.txt\n",
    "    \n",
    "To install `scikit umfpack` for significant speedup:\n",
    "\n",
    "    install -c conda-forge scikit-umfpack\n",
    "\n",
    "Then go to folder and run (where `setup.py` resides)\n",
    "\n",
    "    pip install -e .\n",
    "    \n",
    "For openMP parallelization to work, install it like this:\n",
    "\n",
    "     pip install -e . --install-option=\"--build=parallel\""
   ]
  },
  {
   "cell_type": "markdown",
   "metadata": {},
   "source": [
    "Once this is done, the following should work (ignore the warning that `h5py` might cause):"
   ]
  },
  {
   "cell_type": "code",
   "execution_count": null,
   "metadata": {},
   "outputs": [],
   "source": [
    "import dustpy\n",
    "from dustpy.sim.utils import bindFunction\n",
    "from dustpy.sim import constants as c"
   ]
  },
  {
   "cell_type": "markdown",
   "metadata": {},
   "source": [
    "Create the simulation object"
   ]
  },
  {
   "cell_type": "code",
   "execution_count": null,
   "metadata": {},
   "outputs": [],
   "source": [
    "s = dustpy.sim.Simulation()"
   ]
  },
  {
   "cell_type": "markdown",
   "metadata": {},
   "source": [
    "Now change whatever you want to change in the settings"
   ]
  },
  {
   "cell_type": "code",
   "execution_count": null,
   "metadata": {},
   "outputs": [],
   "source": [
    "s.pars.verbose=3\n",
    "s.snapshots=np.array([3.184E-03*c.yr])"
   ]
  },
  {
   "cell_type": "markdown",
   "metadata": {},
   "source": [
    "We need to tell the code three things:\n",
    "\n",
    "1. don't evolve the gas viscously\n",
    "2. use a different initial condition\n",
    "3. update the gas at every time step with our own function"
   ]
  },
  {
   "cell_type": "markdown",
   "metadata": {},
   "source": [
    "About part 1:"
   ]
  },
  {
   "cell_type": "code",
   "execution_count": null,
   "metadata": {},
   "outputs": [],
   "source": [
    "s.pars.gasAdvection = False"
   ]
  },
  {
   "cell_type": "markdown",
   "metadata": {},
   "source": [
    "About part 2 and 3:"
   ]
  },
  {
   "cell_type": "code",
   "execution_count": null,
   "metadata": {},
   "outputs": [],
   "source": [
    "def yourownfunction(r, t, rc, mp1):\n",
    "    return 200 * (r/rc)**-1 * np.exp(- r/rc)"
   ]
  },
  {
   "cell_type": "code",
   "execution_count": null,
   "metadata": {},
   "outputs": [],
   "source": [
    "# this is how the functions that we bind to the simulation should be defined\n",
    "def initialGas(sim, r, rc, mp1):\n",
    "    return yourownfunction(r, 0.0, rc, mp1)\n",
    "\n",
    "def updateGas(sim, rc, mp1):\n",
    "    sim.gas.Sigma = yourownfunction(sim.grid.r, sim.t, rc, mp1)"
   ]
  },
  {
   "cell_type": "code",
   "execution_count": null,
   "metadata": {},
   "outputs": [],
   "source": [
    "rc  = 50*c.AU\n",
    "q   = 1e-3\n",
    "mp1 = q * c.M_sun\n",
    "\n",
    "bindFunction(s, 'initialGasSurfaceDensity', initialGas, rc=rc, mp1=mp1)\n",
    "bindFunction(s, 'gasSystole', updateGas, rc=rc, mp1=mp1)"
   ]
  },
  {
   "cell_type": "markdown",
   "metadata": {},
   "source": [
    "Now initialize the simulation ..."
   ]
  },
  {
   "cell_type": "code",
   "execution_count": null,
   "metadata": {},
   "outputs": [],
   "source": [
    "if os.path.isdir(s.pars.outputDir):\n",
    "    yn = ''\n",
    "    if not is_interactive():\n",
    "        yn = 'y'\n",
    "    while yn.lower() not in ['y', 'n']:\n",
    "        yn = input('output directory exists - delete? ')\n",
    "    if yn == 'y':\n",
    "        print('deleting')\n",
    "        shutil.rmtree(s.pars.outputDir, ignore_errors=True)\n",
    "    else:\n",
    "        print('keeping')\n",
    "s.initialize()"
   ]
  },
  {
   "cell_type": "markdown",
   "metadata": {},
   "source": [
    "... and finally let it run:"
   ]
  },
  {
   "cell_type": "code",
   "execution_count": null,
   "metadata": {},
   "outputs": [],
   "source": [
    "s.evolve()"
   ]
  },
  {
   "cell_type": "code",
   "execution_count": null,
   "metadata": {},
   "outputs": [],
   "source": [
    "if not is_interactive():\n",
    "    sys.exit(0)"
   ]
  },
  {
   "cell_type": "markdown",
   "metadata": {},
   "source": [
    "# Plotting part"
   ]
  },
  {
   "cell_type": "markdown",
   "metadata": {},
   "source": [
    "Let's do a simple plot - this one uses the attributes of the simulation object, just like your self-defined function should be."
   ]
  },
  {
   "cell_type": "code",
   "execution_count": null,
   "metadata": {},
   "outputs": [],
   "source": [
    "f, ax = plt.subplots()\n",
    "ax.loglog(s.grid.r / c.AU, s.gas.Sigma, 'r-', label='gas')\n",
    "ax.loglog(s.grid.r / c.AU, s.dust.Sigma.sum(1), label='dust')\n",
    "ax.loglog(s.grid.r / c.AU, yourownfunction(s.grid.r, 0, rc, mp1), 'k--',label='goal')\n",
    "ax.set_ylim(1e-1,1e4)\n",
    "ax.legend()\n",
    "print(f'the initial surface density uses a characteristic radius of r_c = {s.ini.gas.SigmaR0/c.AU} au')"
   ]
  },
  {
   "cell_type": "markdown",
   "metadata": {},
   "source": [
    "# Plotting results"
   ]
  },
  {
   "cell_type": "markdown",
   "metadata": {},
   "source": [
    "we need to access the files"
   ]
  },
  {
   "cell_type": "code",
   "execution_count": null,
   "metadata": {},
   "outputs": [],
   "source": [
    "!ls -l {s.pars.outputDir}"
   ]
  },
  {
   "cell_type": "markdown",
   "metadata": {},
   "source": [
    "we use the HDF5 package `h5py`"
   ]
  },
  {
   "cell_type": "code",
   "execution_count": null,
   "metadata": {},
   "outputs": [],
   "source": [
    "import h5py"
   ]
  },
  {
   "cell_type": "markdown",
   "metadata": {},
   "source": [
    "Open the file"
   ]
  },
  {
   "cell_type": "code",
   "execution_count": null,
   "metadata": {},
   "outputs": [],
   "source": [
    "f = h5py.File('output/data0000.hdf5')"
   ]
  },
  {
   "cell_type": "markdown",
   "metadata": {},
   "source": [
    "See what's in it"
   ]
  },
  {
   "cell_type": "code",
   "execution_count": null,
   "metadata": {},
   "outputs": [],
   "source": [
    "list(f)"
   ]
  },
  {
   "cell_type": "markdown",
   "metadata": {},
   "source": [
    "get some data from the file"
   ]
  },
  {
   "cell_type": "code",
   "execution_count": null,
   "metadata": {},
   "outputs": [],
   "source": [
    "t = f['dt'][()] # the funny brackets are to copy the data into the variable instead of \"linking\" to the dataset"
   ]
  },
  {
   "cell_type": "markdown",
   "metadata": {},
   "source": [
    "Some things are actually like sub directories"
   ]
  },
  {
   "cell_type": "code",
   "execution_count": null,
   "metadata": {},
   "outputs": [],
   "source": [
    "list(f['gas'])"
   ]
  },
  {
   "cell_type": "markdown",
   "metadata": {},
   "source": [
    "One way to access it"
   ]
  },
  {
   "cell_type": "code",
   "execution_count": null,
   "metadata": {},
   "outputs": [],
   "source": [
    "f['gas']['Sigma']"
   ]
  },
  {
   "cell_type": "markdown",
   "metadata": {},
   "source": [
    "Shorter way:"
   ]
  },
  {
   "cell_type": "code",
   "execution_count": null,
   "metadata": {},
   "outputs": [],
   "source": [
    "sig_g = f['gas/Sigma'][()]"
   ]
  },
  {
   "cell_type": "markdown",
   "metadata": {},
   "source": [
    "close the file"
   ]
  },
  {
   "cell_type": "code",
   "execution_count": null,
   "metadata": {},
   "outputs": [],
   "source": [
    "f.close()"
   ]
  },
  {
   "cell_type": "markdown",
   "metadata": {},
   "source": [
    "**The better way to do it**"
   ]
  },
  {
   "cell_type": "code",
   "execution_count": null,
   "metadata": {},
   "outputs": [],
   "source": [
    "with h5py.File('output/data0000.hdf5') as f:\n",
    "    t = f['dt'][()]\n",
    "    sig_g = f['gas/Sigma'][()]\n",
    "    sig_d = f['dust/Sigma'][()]\n",
    "    r = f['grid/r'][()]\n",
    "    m = f['grid/m'][()]\n",
    "    a = f['dust/a'][()]"
   ]
  },
  {
   "cell_type": "markdown",
   "metadata": {},
   "source": [
    "Plot the results that we just read in"
   ]
  },
  {
   "cell_type": "code",
   "execution_count": null,
   "metadata": {},
   "outputs": [],
   "source": [
    "f, ax = plt.subplots()\n",
    "ax.loglog(r / c.AU, sig_g)\n",
    "ax.set_ylim(1e-1,1e4);"
   ]
  },
  {
   "cell_type": "markdown",
   "metadata": {},
   "source": [
    "Plot the dust surface density"
   ]
  },
  {
   "cell_type": "code",
   "execution_count": null,
   "metadata": {},
   "outputs": [],
   "source": [
    "f, ax = plt.subplots()\n",
    "cc = ax.contourf(r / c.AU, m, np.log10(sig_d).T, np.arange(-10, 1), extend='both')\n",
    "ax.set_xscale('log')\n",
    "ax.set_yscale('log')\n",
    "ax.set_title(f'evolution after {t/c.yr:3.3g} yrs')\n",
    "ax.set_xlabel('radius [AU]')\n",
    "ax.set_ylabel('particle mass [g]')\n",
    "plt.colorbar(cc);"
   ]
  },
  {
   "cell_type": "markdown",
   "metadata": {},
   "source": [
    "## Why binding a function is a bit more complicated"
   ]
  },
  {
   "cell_type": "code",
   "execution_count": null,
   "metadata": {},
   "outputs": [],
   "source": [
    "x = np.array([1,2,3])"
   ]
  },
  {
   "cell_type": "code",
   "execution_count": null,
   "metadata": {},
   "outputs": [],
   "source": [
    "class myclass():\n",
    "    x = np.linspace(0,10,100)\n",
    "    t = 10\n",
    "    def __init__(self, a):\n",
    "        self.a = a\n",
    "    def print_a(self):\n",
    "        print('a is '+str(self.a))\n",
    "    def give_me_an_alpha(self):\n",
    "        return self.a * np.ones_like(self.x)"
   ]
  },
  {
   "cell_type": "code",
   "execution_count": null,
   "metadata": {},
   "outputs": [],
   "source": [
    "m = myclass(5)"
   ]
  },
  {
   "cell_type": "code",
   "execution_count": null,
   "metadata": {},
   "outputs": [],
   "source": [
    "m.give_me_an_alpha()"
   ]
  },
  {
   "cell_type": "code",
   "execution_count": null,
   "metadata": {},
   "outputs": [],
   "source": [
    "def my_alpha(s):\n",
    "    alpha = s.a * np.ones_like(s.x)\n",
    "    if s.t>50:\n",
    "        alpha += s.a\n",
    "    return alpha"
   ]
  },
  {
   "cell_type": "code",
   "execution_count": null,
   "metadata": {},
   "outputs": [],
   "source": [
    "m.t=60"
   ]
  },
  {
   "cell_type": "code",
   "execution_count": null,
   "metadata": {},
   "outputs": [],
   "source": [
    "my_alpha(m)"
   ]
  },
  {
   "cell_type": "code",
   "execution_count": null,
   "metadata": {},
   "outputs": [],
   "source": [
    "m.give_me_an_alpha = my_alpha"
   ]
  },
  {
   "cell_type": "code",
   "execution_count": null,
   "metadata": {},
   "outputs": [],
   "source": [
    "m.give_me_an_alpha()"
   ]
  }
 ],
 "metadata": {
  "kernelspec": {
   "display_name": "Python 3",
   "language": "python",
   "name": "python3"
  },
  "language_info": {
   "codemirror_mode": {
    "name": "ipython",
    "version": 3
   },
   "file_extension": ".py",
   "mimetype": "text/x-python",
   "name": "python",
   "nbconvert_exporter": "python",
   "pygments_lexer": "ipython3",
   "version": "3.6.3"
  }
 },
 "nbformat": 4,
 "nbformat_minor": 2
}
